{
  "nbformat": 4,
  "nbformat_minor": 0,
  "metadata": {
    "colab": {
      "provenance": [],
      "include_colab_link": true
    },
    "kernelspec": {
      "name": "python3",
      "display_name": "Python 3"
    },
    "language_info": {
      "name": "python"
    }
  },
  "cells": [
    {
      "cell_type": "markdown",
      "metadata": {
        "id": "view-in-github",
        "colab_type": "text"
      },
      "source": [
        "<a href=\"https://colab.research.google.com/github/rani-sneha/DataScience/blob/main/100-days-of-machine-learning/D1-D25/D19understanding_your_data.ipynb\" target=\"_parent\"><img src=\"https://colab.research.google.com/assets/colab-badge.svg\" alt=\"Open In Colab\"/></a>"
      ]
    },
    {
      "cell_type": "code",
      "execution_count": 1,
      "metadata": {
        "id": "ABAKfssmsK83"
      },
      "outputs": [],
      "source": [
        "import pandas as pd\n",
        "import seaborn as sns"
      ]
    },
    {
      "cell_type": "code",
      "source": [
        "from google.colab import drive\n",
        "drive.mount('/content/drive')"
      ],
      "metadata": {
        "colab": {
          "base_uri": "https://localhost:8080/"
        },
        "id": "nxjcdU8ygz70",
        "outputId": "5a5010d8-e220-42d4-a77a-ae5d4e0bb196"
      },
      "execution_count": 2,
      "outputs": [
        {
          "output_type": "stream",
          "name": "stdout",
          "text": [
            "Mounted at /content/drive\n"
          ]
        }
      ]
    },
    {
      "cell_type": "code",
      "source": [
        "D19='/content/drive/MyDrive/100-days-of-machine-learning/D19.csv'"
      ],
      "metadata": {
        "id": "HmmRF3n3g9a9"
      },
      "execution_count": 3,
      "outputs": []
    },
    {
      "cell_type": "code",
      "source": [
        "df=pd.read_csv(D19)"
      ],
      "metadata": {
        "id": "oZVepyt1SInI"
      },
      "execution_count": 4,
      "outputs": []
    },
    {
      "cell_type": "markdown",
      "source": [
        "# 1. How big is the data?\n"
      ],
      "metadata": {
        "id": "AH2Gz81iSaga"
      }
    },
    {
      "cell_type": "code",
      "source": [
        "df.shape"
      ],
      "metadata": {
        "id": "i3t_6y2FSgdX",
        "colab": {
          "base_uri": "https://localhost:8080/"
        },
        "outputId": "9a47ceec-fc66-4228-b5d6-6199182ccf02"
      },
      "execution_count": 5,
      "outputs": [
        {
          "output_type": "execute_result",
          "data": {
            "text/plain": [
              "(891, 12)"
            ]
          },
          "metadata": {},
          "execution_count": 5
        }
      ]
    },
    {
      "cell_type": "markdown",
      "source": [
        "#2. How does the data look like?"
      ],
      "metadata": {
        "id": "7reDSbTvSnbY"
      }
    },
    {
      "cell_type": "code",
      "source": [
        "df.head()"
      ],
      "metadata": {
        "colab": {
          "base_uri": "https://localhost:8080/",
          "height": 547
        },
        "id": "L6g8_CCmSseQ",
        "outputId": "6df10aae-c0f5-4ca9-ea68-b5e36eb1b810"
      },
      "execution_count": 6,
      "outputs": [
        {
          "output_type": "execute_result",
          "data": {
            "text/plain": [
              "   PassengerId  Survived  Pclass  \\\n",
              "0            1         0       3   \n",
              "1            2         1       1   \n",
              "2            3         1       3   \n",
              "3            4         1       1   \n",
              "4            5         0       3   \n",
              "\n",
              "                                                Name     Sex   Age  SibSp  \\\n",
              "0                            Braund, Mr. Owen Harris    male  22.0      1   \n",
              "1  Cumings, Mrs. John Bradley (Florence Briggs Th...  female  38.0      1   \n",
              "2                             Heikkinen, Miss. Laina  female  26.0      0   \n",
              "3       Futrelle, Mrs. Jacques Heath (Lily May Peel)  female  35.0      1   \n",
              "4                           Allen, Mr. William Henry    male  35.0      0   \n",
              "\n",
              "   Parch            Ticket     Fare Cabin Embarked  \n",
              "0      0         A/5 21171   7.2500   NaN        S  \n",
              "1      0          PC 17599  71.2833   C85        C  \n",
              "2      0  STON/O2. 3101282   7.9250   NaN        S  \n",
              "3      0            113803  53.1000  C123        S  \n",
              "4      0            373450   8.0500   NaN        S  "
            ],
            "text/html": [
              "\n",
              "\n",
              "  <div id=\"df-ab8d7adc-5546-4aef-9da0-06a214ec7009\">\n",
              "    <div class=\"colab-df-container\">\n",
              "      <div>\n",
              "<style scoped>\n",
              "    .dataframe tbody tr th:only-of-type {\n",
              "        vertical-align: middle;\n",
              "    }\n",
              "\n",
              "    .dataframe tbody tr th {\n",
              "        vertical-align: top;\n",
              "    }\n",
              "\n",
              "    .dataframe thead th {\n",
              "        text-align: right;\n",
              "    }\n",
              "</style>\n",
              "<table border=\"1\" class=\"dataframe\">\n",
              "  <thead>\n",
              "    <tr style=\"text-align: right;\">\n",
              "      <th></th>\n",
              "      <th>PassengerId</th>\n",
              "      <th>Survived</th>\n",
              "      <th>Pclass</th>\n",
              "      <th>Name</th>\n",
              "      <th>Sex</th>\n",
              "      <th>Age</th>\n",
              "      <th>SibSp</th>\n",
              "      <th>Parch</th>\n",
              "      <th>Ticket</th>\n",
              "      <th>Fare</th>\n",
              "      <th>Cabin</th>\n",
              "      <th>Embarked</th>\n",
              "    </tr>\n",
              "  </thead>\n",
              "  <tbody>\n",
              "    <tr>\n",
              "      <th>0</th>\n",
              "      <td>1</td>\n",
              "      <td>0</td>\n",
              "      <td>3</td>\n",
              "      <td>Braund, Mr. Owen Harris</td>\n",
              "      <td>male</td>\n",
              "      <td>22.0</td>\n",
              "      <td>1</td>\n",
              "      <td>0</td>\n",
              "      <td>A/5 21171</td>\n",
              "      <td>7.2500</td>\n",
              "      <td>NaN</td>\n",
              "      <td>S</td>\n",
              "    </tr>\n",
              "    <tr>\n",
              "      <th>1</th>\n",
              "      <td>2</td>\n",
              "      <td>1</td>\n",
              "      <td>1</td>\n",
              "      <td>Cumings, Mrs. John Bradley (Florence Briggs Th...</td>\n",
              "      <td>female</td>\n",
              "      <td>38.0</td>\n",
              "      <td>1</td>\n",
              "      <td>0</td>\n",
              "      <td>PC 17599</td>\n",
              "      <td>71.2833</td>\n",
              "      <td>C85</td>\n",
              "      <td>C</td>\n",
              "    </tr>\n",
              "    <tr>\n",
              "      <th>2</th>\n",
              "      <td>3</td>\n",
              "      <td>1</td>\n",
              "      <td>3</td>\n",
              "      <td>Heikkinen, Miss. Laina</td>\n",
              "      <td>female</td>\n",
              "      <td>26.0</td>\n",
              "      <td>0</td>\n",
              "      <td>0</td>\n",
              "      <td>STON/O2. 3101282</td>\n",
              "      <td>7.9250</td>\n",
              "      <td>NaN</td>\n",
              "      <td>S</td>\n",
              "    </tr>\n",
              "    <tr>\n",
              "      <th>3</th>\n",
              "      <td>4</td>\n",
              "      <td>1</td>\n",
              "      <td>1</td>\n",
              "      <td>Futrelle, Mrs. Jacques Heath (Lily May Peel)</td>\n",
              "      <td>female</td>\n",
              "      <td>35.0</td>\n",
              "      <td>1</td>\n",
              "      <td>0</td>\n",
              "      <td>113803</td>\n",
              "      <td>53.1000</td>\n",
              "      <td>C123</td>\n",
              "      <td>S</td>\n",
              "    </tr>\n",
              "    <tr>\n",
              "      <th>4</th>\n",
              "      <td>5</td>\n",
              "      <td>0</td>\n",
              "      <td>3</td>\n",
              "      <td>Allen, Mr. William Henry</td>\n",
              "      <td>male</td>\n",
              "      <td>35.0</td>\n",
              "      <td>0</td>\n",
              "      <td>0</td>\n",
              "      <td>373450</td>\n",
              "      <td>8.0500</td>\n",
              "      <td>NaN</td>\n",
              "      <td>S</td>\n",
              "    </tr>\n",
              "  </tbody>\n",
              "</table>\n",
              "</div>\n",
              "      <button class=\"colab-df-convert\" onclick=\"convertToInteractive('df-ab8d7adc-5546-4aef-9da0-06a214ec7009')\"\n",
              "              title=\"Convert this dataframe to an interactive table.\"\n",
              "              style=\"display:none;\">\n",
              "\n",
              "  <svg xmlns=\"http://www.w3.org/2000/svg\" height=\"24px\"viewBox=\"0 0 24 24\"\n",
              "       width=\"24px\">\n",
              "    <path d=\"M0 0h24v24H0V0z\" fill=\"none\"/>\n",
              "    <path d=\"M18.56 5.44l.94 2.06.94-2.06 2.06-.94-2.06-.94-.94-2.06-.94 2.06-2.06.94zm-11 1L8.5 8.5l.94-2.06 2.06-.94-2.06-.94L8.5 2.5l-.94 2.06-2.06.94zm10 10l.94 2.06.94-2.06 2.06-.94-2.06-.94-.94-2.06-.94 2.06-2.06.94z\"/><path d=\"M17.41 7.96l-1.37-1.37c-.4-.4-.92-.59-1.43-.59-.52 0-1.04.2-1.43.59L10.3 9.45l-7.72 7.72c-.78.78-.78 2.05 0 2.83L4 21.41c.39.39.9.59 1.41.59.51 0 1.02-.2 1.41-.59l7.78-7.78 2.81-2.81c.8-.78.8-2.07 0-2.86zM5.41 20L4 18.59l7.72-7.72 1.47 1.35L5.41 20z\"/>\n",
              "  </svg>\n",
              "      </button>\n",
              "\n",
              "\n",
              "\n",
              "    <div id=\"df-059566bf-c3e8-438c-ba1a-bfdd3a3f8975\">\n",
              "      <button class=\"colab-df-quickchart\" onclick=\"quickchart('df-059566bf-c3e8-438c-ba1a-bfdd3a3f8975')\"\n",
              "              title=\"Suggest charts.\"\n",
              "              style=\"display:none;\">\n",
              "\n",
              "<svg xmlns=\"http://www.w3.org/2000/svg\" height=\"24px\"viewBox=\"0 0 24 24\"\n",
              "     width=\"24px\">\n",
              "    <g>\n",
              "        <path d=\"M19 3H5c-1.1 0-2 .9-2 2v14c0 1.1.9 2 2 2h14c1.1 0 2-.9 2-2V5c0-1.1-.9-2-2-2zM9 17H7v-7h2v7zm4 0h-2V7h2v10zm4 0h-2v-4h2v4z\"/>\n",
              "    </g>\n",
              "</svg>\n",
              "      </button>\n",
              "    </div>\n",
              "\n",
              "<style>\n",
              "  .colab-df-quickchart {\n",
              "    background-color: #E8F0FE;\n",
              "    border: none;\n",
              "    border-radius: 50%;\n",
              "    cursor: pointer;\n",
              "    display: none;\n",
              "    fill: #1967D2;\n",
              "    height: 32px;\n",
              "    padding: 0 0 0 0;\n",
              "    width: 32px;\n",
              "  }\n",
              "\n",
              "  .colab-df-quickchart:hover {\n",
              "    background-color: #E2EBFA;\n",
              "    box-shadow: 0px 1px 2px rgba(60, 64, 67, 0.3), 0px 1px 3px 1px rgba(60, 64, 67, 0.15);\n",
              "    fill: #174EA6;\n",
              "  }\n",
              "\n",
              "  [theme=dark] .colab-df-quickchart {\n",
              "    background-color: #3B4455;\n",
              "    fill: #D2E3FC;\n",
              "  }\n",
              "\n",
              "  [theme=dark] .colab-df-quickchart:hover {\n",
              "    background-color: #434B5C;\n",
              "    box-shadow: 0px 1px 3px 1px rgba(0, 0, 0, 0.15);\n",
              "    filter: drop-shadow(0px 1px 2px rgba(0, 0, 0, 0.3));\n",
              "    fill: #FFFFFF;\n",
              "  }\n",
              "</style>\n",
              "\n",
              "    <script>\n",
              "      async function quickchart(key) {\n",
              "        const containerElement = document.querySelector('#' + key);\n",
              "        const charts = await google.colab.kernel.invokeFunction(\n",
              "            'suggestCharts', [key], {});\n",
              "      }\n",
              "    </script>\n",
              "\n",
              "      <script>\n",
              "\n",
              "function displayQuickchartButton(domScope) {\n",
              "  let quickchartButtonEl =\n",
              "    domScope.querySelector('#df-059566bf-c3e8-438c-ba1a-bfdd3a3f8975 button.colab-df-quickchart');\n",
              "  quickchartButtonEl.style.display =\n",
              "    google.colab.kernel.accessAllowed ? 'block' : 'none';\n",
              "}\n",
              "\n",
              "        displayQuickchartButton(document);\n",
              "      </script>\n",
              "      <style>\n",
              "    .colab-df-container {\n",
              "      display:flex;\n",
              "      flex-wrap:wrap;\n",
              "      gap: 12px;\n",
              "    }\n",
              "\n",
              "    .colab-df-convert {\n",
              "      background-color: #E8F0FE;\n",
              "      border: none;\n",
              "      border-radius: 50%;\n",
              "      cursor: pointer;\n",
              "      display: none;\n",
              "      fill: #1967D2;\n",
              "      height: 32px;\n",
              "      padding: 0 0 0 0;\n",
              "      width: 32px;\n",
              "    }\n",
              "\n",
              "    .colab-df-convert:hover {\n",
              "      background-color: #E2EBFA;\n",
              "      box-shadow: 0px 1px 2px rgba(60, 64, 67, 0.3), 0px 1px 3px 1px rgba(60, 64, 67, 0.15);\n",
              "      fill: #174EA6;\n",
              "    }\n",
              "\n",
              "    [theme=dark] .colab-df-convert {\n",
              "      background-color: #3B4455;\n",
              "      fill: #D2E3FC;\n",
              "    }\n",
              "\n",
              "    [theme=dark] .colab-df-convert:hover {\n",
              "      background-color: #434B5C;\n",
              "      box-shadow: 0px 1px 3px 1px rgba(0, 0, 0, 0.15);\n",
              "      filter: drop-shadow(0px 1px 2px rgba(0, 0, 0, 0.3));\n",
              "      fill: #FFFFFF;\n",
              "    }\n",
              "  </style>\n",
              "\n",
              "      <script>\n",
              "        const buttonEl =\n",
              "          document.querySelector('#df-ab8d7adc-5546-4aef-9da0-06a214ec7009 button.colab-df-convert');\n",
              "        buttonEl.style.display =\n",
              "          google.colab.kernel.accessAllowed ? 'block' : 'none';\n",
              "\n",
              "        async function convertToInteractive(key) {\n",
              "          const element = document.querySelector('#df-ab8d7adc-5546-4aef-9da0-06a214ec7009');\n",
              "          const dataTable =\n",
              "            await google.colab.kernel.invokeFunction('convertToInteractive',\n",
              "                                                     [key], {});\n",
              "          if (!dataTable) return;\n",
              "\n",
              "          const docLinkHtml = 'Like what you see? Visit the ' +\n",
              "            '<a target=\"_blank\" href=https://colab.research.google.com/notebooks/data_table.ipynb>data table notebook</a>'\n",
              "            + ' to learn more about interactive tables.';\n",
              "          element.innerHTML = '';\n",
              "          dataTable['output_type'] = 'display_data';\n",
              "          await google.colab.output.renderOutput(dataTable, element);\n",
              "          const docLink = document.createElement('div');\n",
              "          docLink.innerHTML = docLinkHtml;\n",
              "          element.appendChild(docLink);\n",
              "        }\n",
              "      </script>\n",
              "    </div>\n",
              "  </div>\n"
            ]
          },
          "metadata": {},
          "execution_count": 6
        }
      ]
    },
    {
      "cell_type": "code",
      "source": [
        "df.sample(5)"
      ],
      "metadata": {
        "colab": {
          "base_uri": "https://localhost:8080/",
          "height": 426
        },
        "id": "oKLkTVsbSzv4",
        "outputId": "84a590e9-1caa-444c-e8f8-2b6149fe19cf"
      },
      "execution_count": 7,
      "outputs": [
        {
          "output_type": "execute_result",
          "data": {
            "text/plain": [
              "     PassengerId  Survived  Pclass                              Name     Sex  \\\n",
              "280          281         0       3                  Duane, Mr. Frank    male   \n",
              "147          148         0       3  Ford, Miss. Robina Maggie \"Ruby\"  female   \n",
              "859          860         0       3                  Razi, Mr. Raihed    male   \n",
              "668          669         0       3                   Cook, Mr. Jacob    male   \n",
              "641          642         1       1              Sagesser, Mlle. Emma  female   \n",
              "\n",
              "      Age  SibSp  Parch      Ticket     Fare Cabin Embarked  \n",
              "280  65.0      0      0      336439   7.7500   NaN        Q  \n",
              "147   9.0      2      2  W./C. 6608  34.3750   NaN        S  \n",
              "859   NaN      0      0        2629   7.2292   NaN        C  \n",
              "668  43.0      0      0    A/5 3536   8.0500   NaN        S  \n",
              "641  24.0      0      0    PC 17477  69.3000   B35        C  "
            ],
            "text/html": [
              "\n",
              "\n",
              "  <div id=\"df-07eb0390-e53b-4b30-9d61-dcbb091f17af\">\n",
              "    <div class=\"colab-df-container\">\n",
              "      <div>\n",
              "<style scoped>\n",
              "    .dataframe tbody tr th:only-of-type {\n",
              "        vertical-align: middle;\n",
              "    }\n",
              "\n",
              "    .dataframe tbody tr th {\n",
              "        vertical-align: top;\n",
              "    }\n",
              "\n",
              "    .dataframe thead th {\n",
              "        text-align: right;\n",
              "    }\n",
              "</style>\n",
              "<table border=\"1\" class=\"dataframe\">\n",
              "  <thead>\n",
              "    <tr style=\"text-align: right;\">\n",
              "      <th></th>\n",
              "      <th>PassengerId</th>\n",
              "      <th>Survived</th>\n",
              "      <th>Pclass</th>\n",
              "      <th>Name</th>\n",
              "      <th>Sex</th>\n",
              "      <th>Age</th>\n",
              "      <th>SibSp</th>\n",
              "      <th>Parch</th>\n",
              "      <th>Ticket</th>\n",
              "      <th>Fare</th>\n",
              "      <th>Cabin</th>\n",
              "      <th>Embarked</th>\n",
              "    </tr>\n",
              "  </thead>\n",
              "  <tbody>\n",
              "    <tr>\n",
              "      <th>280</th>\n",
              "      <td>281</td>\n",
              "      <td>0</td>\n",
              "      <td>3</td>\n",
              "      <td>Duane, Mr. Frank</td>\n",
              "      <td>male</td>\n",
              "      <td>65.0</td>\n",
              "      <td>0</td>\n",
              "      <td>0</td>\n",
              "      <td>336439</td>\n",
              "      <td>7.7500</td>\n",
              "      <td>NaN</td>\n",
              "      <td>Q</td>\n",
              "    </tr>\n",
              "    <tr>\n",
              "      <th>147</th>\n",
              "      <td>148</td>\n",
              "      <td>0</td>\n",
              "      <td>3</td>\n",
              "      <td>Ford, Miss. Robina Maggie \"Ruby\"</td>\n",
              "      <td>female</td>\n",
              "      <td>9.0</td>\n",
              "      <td>2</td>\n",
              "      <td>2</td>\n",
              "      <td>W./C. 6608</td>\n",
              "      <td>34.3750</td>\n",
              "      <td>NaN</td>\n",
              "      <td>S</td>\n",
              "    </tr>\n",
              "    <tr>\n",
              "      <th>859</th>\n",
              "      <td>860</td>\n",
              "      <td>0</td>\n",
              "      <td>3</td>\n",
              "      <td>Razi, Mr. Raihed</td>\n",
              "      <td>male</td>\n",
              "      <td>NaN</td>\n",
              "      <td>0</td>\n",
              "      <td>0</td>\n",
              "      <td>2629</td>\n",
              "      <td>7.2292</td>\n",
              "      <td>NaN</td>\n",
              "      <td>C</td>\n",
              "    </tr>\n",
              "    <tr>\n",
              "      <th>668</th>\n",
              "      <td>669</td>\n",
              "      <td>0</td>\n",
              "      <td>3</td>\n",
              "      <td>Cook, Mr. Jacob</td>\n",
              "      <td>male</td>\n",
              "      <td>43.0</td>\n",
              "      <td>0</td>\n",
              "      <td>0</td>\n",
              "      <td>A/5 3536</td>\n",
              "      <td>8.0500</td>\n",
              "      <td>NaN</td>\n",
              "      <td>S</td>\n",
              "    </tr>\n",
              "    <tr>\n",
              "      <th>641</th>\n",
              "      <td>642</td>\n",
              "      <td>1</td>\n",
              "      <td>1</td>\n",
              "      <td>Sagesser, Mlle. Emma</td>\n",
              "      <td>female</td>\n",
              "      <td>24.0</td>\n",
              "      <td>0</td>\n",
              "      <td>0</td>\n",
              "      <td>PC 17477</td>\n",
              "      <td>69.3000</td>\n",
              "      <td>B35</td>\n",
              "      <td>C</td>\n",
              "    </tr>\n",
              "  </tbody>\n",
              "</table>\n",
              "</div>\n",
              "      <button class=\"colab-df-convert\" onclick=\"convertToInteractive('df-07eb0390-e53b-4b30-9d61-dcbb091f17af')\"\n",
              "              title=\"Convert this dataframe to an interactive table.\"\n",
              "              style=\"display:none;\">\n",
              "\n",
              "  <svg xmlns=\"http://www.w3.org/2000/svg\" height=\"24px\"viewBox=\"0 0 24 24\"\n",
              "       width=\"24px\">\n",
              "    <path d=\"M0 0h24v24H0V0z\" fill=\"none\"/>\n",
              "    <path d=\"M18.56 5.44l.94 2.06.94-2.06 2.06-.94-2.06-.94-.94-2.06-.94 2.06-2.06.94zm-11 1L8.5 8.5l.94-2.06 2.06-.94-2.06-.94L8.5 2.5l-.94 2.06-2.06.94zm10 10l.94 2.06.94-2.06 2.06-.94-2.06-.94-.94-2.06-.94 2.06-2.06.94z\"/><path d=\"M17.41 7.96l-1.37-1.37c-.4-.4-.92-.59-1.43-.59-.52 0-1.04.2-1.43.59L10.3 9.45l-7.72 7.72c-.78.78-.78 2.05 0 2.83L4 21.41c.39.39.9.59 1.41.59.51 0 1.02-.2 1.41-.59l7.78-7.78 2.81-2.81c.8-.78.8-2.07 0-2.86zM5.41 20L4 18.59l7.72-7.72 1.47 1.35L5.41 20z\"/>\n",
              "  </svg>\n",
              "      </button>\n",
              "\n",
              "\n",
              "\n",
              "    <div id=\"df-bace2c77-acd1-4a6d-866d-6f8b2c558d69\">\n",
              "      <button class=\"colab-df-quickchart\" onclick=\"quickchart('df-bace2c77-acd1-4a6d-866d-6f8b2c558d69')\"\n",
              "              title=\"Suggest charts.\"\n",
              "              style=\"display:none;\">\n",
              "\n",
              "<svg xmlns=\"http://www.w3.org/2000/svg\" height=\"24px\"viewBox=\"0 0 24 24\"\n",
              "     width=\"24px\">\n",
              "    <g>\n",
              "        <path d=\"M19 3H5c-1.1 0-2 .9-2 2v14c0 1.1.9 2 2 2h14c1.1 0 2-.9 2-2V5c0-1.1-.9-2-2-2zM9 17H7v-7h2v7zm4 0h-2V7h2v10zm4 0h-2v-4h2v4z\"/>\n",
              "    </g>\n",
              "</svg>\n",
              "      </button>\n",
              "    </div>\n",
              "\n",
              "<style>\n",
              "  .colab-df-quickchart {\n",
              "    background-color: #E8F0FE;\n",
              "    border: none;\n",
              "    border-radius: 50%;\n",
              "    cursor: pointer;\n",
              "    display: none;\n",
              "    fill: #1967D2;\n",
              "    height: 32px;\n",
              "    padding: 0 0 0 0;\n",
              "    width: 32px;\n",
              "  }\n",
              "\n",
              "  .colab-df-quickchart:hover {\n",
              "    background-color: #E2EBFA;\n",
              "    box-shadow: 0px 1px 2px rgba(60, 64, 67, 0.3), 0px 1px 3px 1px rgba(60, 64, 67, 0.15);\n",
              "    fill: #174EA6;\n",
              "  }\n",
              "\n",
              "  [theme=dark] .colab-df-quickchart {\n",
              "    background-color: #3B4455;\n",
              "    fill: #D2E3FC;\n",
              "  }\n",
              "\n",
              "  [theme=dark] .colab-df-quickchart:hover {\n",
              "    background-color: #434B5C;\n",
              "    box-shadow: 0px 1px 3px 1px rgba(0, 0, 0, 0.15);\n",
              "    filter: drop-shadow(0px 1px 2px rgba(0, 0, 0, 0.3));\n",
              "    fill: #FFFFFF;\n",
              "  }\n",
              "</style>\n",
              "\n",
              "    <script>\n",
              "      async function quickchart(key) {\n",
              "        const containerElement = document.querySelector('#' + key);\n",
              "        const charts = await google.colab.kernel.invokeFunction(\n",
              "            'suggestCharts', [key], {});\n",
              "      }\n",
              "    </script>\n",
              "\n",
              "      <script>\n",
              "\n",
              "function displayQuickchartButton(domScope) {\n",
              "  let quickchartButtonEl =\n",
              "    domScope.querySelector('#df-bace2c77-acd1-4a6d-866d-6f8b2c558d69 button.colab-df-quickchart');\n",
              "  quickchartButtonEl.style.display =\n",
              "    google.colab.kernel.accessAllowed ? 'block' : 'none';\n",
              "}\n",
              "\n",
              "        displayQuickchartButton(document);\n",
              "      </script>\n",
              "      <style>\n",
              "    .colab-df-container {\n",
              "      display:flex;\n",
              "      flex-wrap:wrap;\n",
              "      gap: 12px;\n",
              "    }\n",
              "\n",
              "    .colab-df-convert {\n",
              "      background-color: #E8F0FE;\n",
              "      border: none;\n",
              "      border-radius: 50%;\n",
              "      cursor: pointer;\n",
              "      display: none;\n",
              "      fill: #1967D2;\n",
              "      height: 32px;\n",
              "      padding: 0 0 0 0;\n",
              "      width: 32px;\n",
              "    }\n",
              "\n",
              "    .colab-df-convert:hover {\n",
              "      background-color: #E2EBFA;\n",
              "      box-shadow: 0px 1px 2px rgba(60, 64, 67, 0.3), 0px 1px 3px 1px rgba(60, 64, 67, 0.15);\n",
              "      fill: #174EA6;\n",
              "    }\n",
              "\n",
              "    [theme=dark] .colab-df-convert {\n",
              "      background-color: #3B4455;\n",
              "      fill: #D2E3FC;\n",
              "    }\n",
              "\n",
              "    [theme=dark] .colab-df-convert:hover {\n",
              "      background-color: #434B5C;\n",
              "      box-shadow: 0px 1px 3px 1px rgba(0, 0, 0, 0.15);\n",
              "      filter: drop-shadow(0px 1px 2px rgba(0, 0, 0, 0.3));\n",
              "      fill: #FFFFFF;\n",
              "    }\n",
              "  </style>\n",
              "\n",
              "      <script>\n",
              "        const buttonEl =\n",
              "          document.querySelector('#df-07eb0390-e53b-4b30-9d61-dcbb091f17af button.colab-df-convert');\n",
              "        buttonEl.style.display =\n",
              "          google.colab.kernel.accessAllowed ? 'block' : 'none';\n",
              "\n",
              "        async function convertToInteractive(key) {\n",
              "          const element = document.querySelector('#df-07eb0390-e53b-4b30-9d61-dcbb091f17af');\n",
              "          const dataTable =\n",
              "            await google.colab.kernel.invokeFunction('convertToInteractive',\n",
              "                                                     [key], {});\n",
              "          if (!dataTable) return;\n",
              "\n",
              "          const docLinkHtml = 'Like what you see? Visit the ' +\n",
              "            '<a target=\"_blank\" href=https://colab.research.google.com/notebooks/data_table.ipynb>data table notebook</a>'\n",
              "            + ' to learn more about interactive tables.';\n",
              "          element.innerHTML = '';\n",
              "          dataTable['output_type'] = 'display_data';\n",
              "          await google.colab.output.renderOutput(dataTable, element);\n",
              "          const docLink = document.createElement('div');\n",
              "          docLink.innerHTML = docLinkHtml;\n",
              "          element.appendChild(docLink);\n",
              "        }\n",
              "      </script>\n",
              "    </div>\n",
              "  </div>\n"
            ]
          },
          "metadata": {},
          "execution_count": 7
        }
      ]
    },
    {
      "cell_type": "markdown",
      "source": [
        "To get a better idea of data an d not just first 5 elements or rows. You use sample(5). Here 5 indicates the no number of rows you want to see."
      ],
      "metadata": {
        "id": "inx5BaTDTBQO"
      }
    },
    {
      "cell_type": "markdown",
      "source": [
        "#3. What is the data type of cols?"
      ],
      "metadata": {
        "id": "D0FJgPl9TYV-"
      }
    },
    {
      "cell_type": "code",
      "source": [
        "df.info()"
      ],
      "metadata": {
        "colab": {
          "base_uri": "https://localhost:8080/"
        },
        "id": "NyVGgmo8TWR3",
        "outputId": "ebb0a086-1d39-4cbe-ec7b-4a9989ac86b7"
      },
      "execution_count": 8,
      "outputs": [
        {
          "output_type": "stream",
          "name": "stdout",
          "text": [
            "<class 'pandas.core.frame.DataFrame'>\n",
            "RangeIndex: 891 entries, 0 to 890\n",
            "Data columns (total 12 columns):\n",
            " #   Column       Non-Null Count  Dtype  \n",
            "---  ------       --------------  -----  \n",
            " 0   PassengerId  891 non-null    int64  \n",
            " 1   Survived     891 non-null    int64  \n",
            " 2   Pclass       891 non-null    int64  \n",
            " 3   Name         891 non-null    object \n",
            " 4   Sex          891 non-null    object \n",
            " 5   Age          714 non-null    float64\n",
            " 6   SibSp        891 non-null    int64  \n",
            " 7   Parch        891 non-null    int64  \n",
            " 8   Ticket       891 non-null    object \n",
            " 9   Fare         891 non-null    float64\n",
            " 10  Cabin        204 non-null    object \n",
            " 11  Embarked     889 non-null    object \n",
            "dtypes: float64(2), int64(5), object(5)\n",
            "memory usage: 83.7+ KB\n"
          ]
        }
      ]
    },
    {
      "cell_type": "markdown",
      "source": [
        "#4. Are there any missing values in Data?\n",
        "You can determine it easily by the above table.But for a more detailed information for the missing values."
      ],
      "metadata": {
        "id": "HZzjdlXOT81A"
      }
    },
    {
      "cell_type": "code",
      "source": [
        "df.isnull().sum()"
      ],
      "metadata": {
        "colab": {
          "base_uri": "https://localhost:8080/"
        },
        "id": "NY3dymr8Tfef",
        "outputId": "6c9100e9-180e-49c7-ec77-ccc3ae34a9c5"
      },
      "execution_count": 9,
      "outputs": [
        {
          "output_type": "execute_result",
          "data": {
            "text/plain": [
              "PassengerId      0\n",
              "Survived         0\n",
              "Pclass           0\n",
              "Name             0\n",
              "Sex              0\n",
              "Age            177\n",
              "SibSp            0\n",
              "Parch            0\n",
              "Ticket           0\n",
              "Fare             0\n",
              "Cabin          687\n",
              "Embarked         2\n",
              "dtype: int64"
            ]
          },
          "metadata": {},
          "execution_count": 9
        }
      ]
    },
    {
      "cell_type": "markdown",
      "source": [
        "#5. How does the data look mathematically?"
      ],
      "metadata": {
        "id": "IXRwl-RDW-Cy"
      }
    },
    {
      "cell_type": "code",
      "source": [
        "df.describe()"
      ],
      "metadata": {
        "colab": {
          "base_uri": "https://localhost:8080/",
          "height": 364
        },
        "id": "HIlTexa9XDcF",
        "outputId": "e5a09967-76bb-48ed-cf91-73e475a2fa0b"
      },
      "execution_count": 10,
      "outputs": [
        {
          "output_type": "execute_result",
          "data": {
            "text/plain": [
              "       PassengerId    Survived      Pclass         Age       SibSp  \\\n",
              "count   891.000000  891.000000  891.000000  714.000000  891.000000   \n",
              "mean    446.000000    0.383838    2.308642   29.699118    0.523008   \n",
              "std     257.353842    0.486592    0.836071   14.526497    1.102743   \n",
              "min       1.000000    0.000000    1.000000    0.420000    0.000000   \n",
              "25%     223.500000    0.000000    2.000000   20.125000    0.000000   \n",
              "50%     446.000000    0.000000    3.000000   28.000000    0.000000   \n",
              "75%     668.500000    1.000000    3.000000   38.000000    1.000000   \n",
              "max     891.000000    1.000000    3.000000   80.000000    8.000000   \n",
              "\n",
              "            Parch        Fare  \n",
              "count  891.000000  891.000000  \n",
              "mean     0.381594   32.204208  \n",
              "std      0.806057   49.693429  \n",
              "min      0.000000    0.000000  \n",
              "25%      0.000000    7.910400  \n",
              "50%      0.000000   14.454200  \n",
              "75%      0.000000   31.000000  \n",
              "max      6.000000  512.329200  "
            ],
            "text/html": [
              "\n",
              "\n",
              "  <div id=\"df-4651b14f-1522-4c01-bbfe-94fb530aa67b\">\n",
              "    <div class=\"colab-df-container\">\n",
              "      <div>\n",
              "<style scoped>\n",
              "    .dataframe tbody tr th:only-of-type {\n",
              "        vertical-align: middle;\n",
              "    }\n",
              "\n",
              "    .dataframe tbody tr th {\n",
              "        vertical-align: top;\n",
              "    }\n",
              "\n",
              "    .dataframe thead th {\n",
              "        text-align: right;\n",
              "    }\n",
              "</style>\n",
              "<table border=\"1\" class=\"dataframe\">\n",
              "  <thead>\n",
              "    <tr style=\"text-align: right;\">\n",
              "      <th></th>\n",
              "      <th>PassengerId</th>\n",
              "      <th>Survived</th>\n",
              "      <th>Pclass</th>\n",
              "      <th>Age</th>\n",
              "      <th>SibSp</th>\n",
              "      <th>Parch</th>\n",
              "      <th>Fare</th>\n",
              "    </tr>\n",
              "  </thead>\n",
              "  <tbody>\n",
              "    <tr>\n",
              "      <th>count</th>\n",
              "      <td>891.000000</td>\n",
              "      <td>891.000000</td>\n",
              "      <td>891.000000</td>\n",
              "      <td>714.000000</td>\n",
              "      <td>891.000000</td>\n",
              "      <td>891.000000</td>\n",
              "      <td>891.000000</td>\n",
              "    </tr>\n",
              "    <tr>\n",
              "      <th>mean</th>\n",
              "      <td>446.000000</td>\n",
              "      <td>0.383838</td>\n",
              "      <td>2.308642</td>\n",
              "      <td>29.699118</td>\n",
              "      <td>0.523008</td>\n",
              "      <td>0.381594</td>\n",
              "      <td>32.204208</td>\n",
              "    </tr>\n",
              "    <tr>\n",
              "      <th>std</th>\n",
              "      <td>257.353842</td>\n",
              "      <td>0.486592</td>\n",
              "      <td>0.836071</td>\n",
              "      <td>14.526497</td>\n",
              "      <td>1.102743</td>\n",
              "      <td>0.806057</td>\n",
              "      <td>49.693429</td>\n",
              "    </tr>\n",
              "    <tr>\n",
              "      <th>min</th>\n",
              "      <td>1.000000</td>\n",
              "      <td>0.000000</td>\n",
              "      <td>1.000000</td>\n",
              "      <td>0.420000</td>\n",
              "      <td>0.000000</td>\n",
              "      <td>0.000000</td>\n",
              "      <td>0.000000</td>\n",
              "    </tr>\n",
              "    <tr>\n",
              "      <th>25%</th>\n",
              "      <td>223.500000</td>\n",
              "      <td>0.000000</td>\n",
              "      <td>2.000000</td>\n",
              "      <td>20.125000</td>\n",
              "      <td>0.000000</td>\n",
              "      <td>0.000000</td>\n",
              "      <td>7.910400</td>\n",
              "    </tr>\n",
              "    <tr>\n",
              "      <th>50%</th>\n",
              "      <td>446.000000</td>\n",
              "      <td>0.000000</td>\n",
              "      <td>3.000000</td>\n",
              "      <td>28.000000</td>\n",
              "      <td>0.000000</td>\n",
              "      <td>0.000000</td>\n",
              "      <td>14.454200</td>\n",
              "    </tr>\n",
              "    <tr>\n",
              "      <th>75%</th>\n",
              "      <td>668.500000</td>\n",
              "      <td>1.000000</td>\n",
              "      <td>3.000000</td>\n",
              "      <td>38.000000</td>\n",
              "      <td>1.000000</td>\n",
              "      <td>0.000000</td>\n",
              "      <td>31.000000</td>\n",
              "    </tr>\n",
              "    <tr>\n",
              "      <th>max</th>\n",
              "      <td>891.000000</td>\n",
              "      <td>1.000000</td>\n",
              "      <td>3.000000</td>\n",
              "      <td>80.000000</td>\n",
              "      <td>8.000000</td>\n",
              "      <td>6.000000</td>\n",
              "      <td>512.329200</td>\n",
              "    </tr>\n",
              "  </tbody>\n",
              "</table>\n",
              "</div>\n",
              "      <button class=\"colab-df-convert\" onclick=\"convertToInteractive('df-4651b14f-1522-4c01-bbfe-94fb530aa67b')\"\n",
              "              title=\"Convert this dataframe to an interactive table.\"\n",
              "              style=\"display:none;\">\n",
              "\n",
              "  <svg xmlns=\"http://www.w3.org/2000/svg\" height=\"24px\"viewBox=\"0 0 24 24\"\n",
              "       width=\"24px\">\n",
              "    <path d=\"M0 0h24v24H0V0z\" fill=\"none\"/>\n",
              "    <path d=\"M18.56 5.44l.94 2.06.94-2.06 2.06-.94-2.06-.94-.94-2.06-.94 2.06-2.06.94zm-11 1L8.5 8.5l.94-2.06 2.06-.94-2.06-.94L8.5 2.5l-.94 2.06-2.06.94zm10 10l.94 2.06.94-2.06 2.06-.94-2.06-.94-.94-2.06-.94 2.06-2.06.94z\"/><path d=\"M17.41 7.96l-1.37-1.37c-.4-.4-.92-.59-1.43-.59-.52 0-1.04.2-1.43.59L10.3 9.45l-7.72 7.72c-.78.78-.78 2.05 0 2.83L4 21.41c.39.39.9.59 1.41.59.51 0 1.02-.2 1.41-.59l7.78-7.78 2.81-2.81c.8-.78.8-2.07 0-2.86zM5.41 20L4 18.59l7.72-7.72 1.47 1.35L5.41 20z\"/>\n",
              "  </svg>\n",
              "      </button>\n",
              "\n",
              "\n",
              "\n",
              "    <div id=\"df-b10050a2-d2f4-4284-9231-a95207dd2a16\">\n",
              "      <button class=\"colab-df-quickchart\" onclick=\"quickchart('df-b10050a2-d2f4-4284-9231-a95207dd2a16')\"\n",
              "              title=\"Suggest charts.\"\n",
              "              style=\"display:none;\">\n",
              "\n",
              "<svg xmlns=\"http://www.w3.org/2000/svg\" height=\"24px\"viewBox=\"0 0 24 24\"\n",
              "     width=\"24px\">\n",
              "    <g>\n",
              "        <path d=\"M19 3H5c-1.1 0-2 .9-2 2v14c0 1.1.9 2 2 2h14c1.1 0 2-.9 2-2V5c0-1.1-.9-2-2-2zM9 17H7v-7h2v7zm4 0h-2V7h2v10zm4 0h-2v-4h2v4z\"/>\n",
              "    </g>\n",
              "</svg>\n",
              "      </button>\n",
              "    </div>\n",
              "\n",
              "<style>\n",
              "  .colab-df-quickchart {\n",
              "    background-color: #E8F0FE;\n",
              "    border: none;\n",
              "    border-radius: 50%;\n",
              "    cursor: pointer;\n",
              "    display: none;\n",
              "    fill: #1967D2;\n",
              "    height: 32px;\n",
              "    padding: 0 0 0 0;\n",
              "    width: 32px;\n",
              "  }\n",
              "\n",
              "  .colab-df-quickchart:hover {\n",
              "    background-color: #E2EBFA;\n",
              "    box-shadow: 0px 1px 2px rgba(60, 64, 67, 0.3), 0px 1px 3px 1px rgba(60, 64, 67, 0.15);\n",
              "    fill: #174EA6;\n",
              "  }\n",
              "\n",
              "  [theme=dark] .colab-df-quickchart {\n",
              "    background-color: #3B4455;\n",
              "    fill: #D2E3FC;\n",
              "  }\n",
              "\n",
              "  [theme=dark] .colab-df-quickchart:hover {\n",
              "    background-color: #434B5C;\n",
              "    box-shadow: 0px 1px 3px 1px rgba(0, 0, 0, 0.15);\n",
              "    filter: drop-shadow(0px 1px 2px rgba(0, 0, 0, 0.3));\n",
              "    fill: #FFFFFF;\n",
              "  }\n",
              "</style>\n",
              "\n",
              "    <script>\n",
              "      async function quickchart(key) {\n",
              "        const containerElement = document.querySelector('#' + key);\n",
              "        const charts = await google.colab.kernel.invokeFunction(\n",
              "            'suggestCharts', [key], {});\n",
              "      }\n",
              "    </script>\n",
              "\n",
              "      <script>\n",
              "\n",
              "function displayQuickchartButton(domScope) {\n",
              "  let quickchartButtonEl =\n",
              "    domScope.querySelector('#df-b10050a2-d2f4-4284-9231-a95207dd2a16 button.colab-df-quickchart');\n",
              "  quickchartButtonEl.style.display =\n",
              "    google.colab.kernel.accessAllowed ? 'block' : 'none';\n",
              "}\n",
              "\n",
              "        displayQuickchartButton(document);\n",
              "      </script>\n",
              "      <style>\n",
              "    .colab-df-container {\n",
              "      display:flex;\n",
              "      flex-wrap:wrap;\n",
              "      gap: 12px;\n",
              "    }\n",
              "\n",
              "    .colab-df-convert {\n",
              "      background-color: #E8F0FE;\n",
              "      border: none;\n",
              "      border-radius: 50%;\n",
              "      cursor: pointer;\n",
              "      display: none;\n",
              "      fill: #1967D2;\n",
              "      height: 32px;\n",
              "      padding: 0 0 0 0;\n",
              "      width: 32px;\n",
              "    }\n",
              "\n",
              "    .colab-df-convert:hover {\n",
              "      background-color: #E2EBFA;\n",
              "      box-shadow: 0px 1px 2px rgba(60, 64, 67, 0.3), 0px 1px 3px 1px rgba(60, 64, 67, 0.15);\n",
              "      fill: #174EA6;\n",
              "    }\n",
              "\n",
              "    [theme=dark] .colab-df-convert {\n",
              "      background-color: #3B4455;\n",
              "      fill: #D2E3FC;\n",
              "    }\n",
              "\n",
              "    [theme=dark] .colab-df-convert:hover {\n",
              "      background-color: #434B5C;\n",
              "      box-shadow: 0px 1px 3px 1px rgba(0, 0, 0, 0.15);\n",
              "      filter: drop-shadow(0px 1px 2px rgba(0, 0, 0, 0.3));\n",
              "      fill: #FFFFFF;\n",
              "    }\n",
              "  </style>\n",
              "\n",
              "      <script>\n",
              "        const buttonEl =\n",
              "          document.querySelector('#df-4651b14f-1522-4c01-bbfe-94fb530aa67b button.colab-df-convert');\n",
              "        buttonEl.style.display =\n",
              "          google.colab.kernel.accessAllowed ? 'block' : 'none';\n",
              "\n",
              "        async function convertToInteractive(key) {\n",
              "          const element = document.querySelector('#df-4651b14f-1522-4c01-bbfe-94fb530aa67b');\n",
              "          const dataTable =\n",
              "            await google.colab.kernel.invokeFunction('convertToInteractive',\n",
              "                                                     [key], {});\n",
              "          if (!dataTable) return;\n",
              "\n",
              "          const docLinkHtml = 'Like what you see? Visit the ' +\n",
              "            '<a target=\"_blank\" href=https://colab.research.google.com/notebooks/data_table.ipynb>data table notebook</a>'\n",
              "            + ' to learn more about interactive tables.';\n",
              "          element.innerHTML = '';\n",
              "          dataTable['output_type'] = 'display_data';\n",
              "          await google.colab.output.renderOutput(dataTable, element);\n",
              "          const docLink = document.createElement('div');\n",
              "          docLink.innerHTML = docLinkHtml;\n",
              "          element.appendChild(docLink);\n",
              "        }\n",
              "      </script>\n",
              "    </div>\n",
              "  </div>\n"
            ]
          },
          "metadata": {},
          "execution_count": 10
        }
      ]
    },
    {
      "cell_type": "markdown",
      "source": [
        "#6. Are there aby duplicated values?"
      ],
      "metadata": {
        "id": "bsztuovhXZ3M"
      }
    },
    {
      "cell_type": "code",
      "source": [
        "df.duplicated().sum()"
      ],
      "metadata": {
        "colab": {
          "base_uri": "https://localhost:8080/"
        },
        "id": "bfeB5U1cXGd1",
        "outputId": "c6e5b960-301c-4fde-a851-de39665ef2c9"
      },
      "execution_count": 11,
      "outputs": [
        {
          "output_type": "execute_result",
          "data": {
            "text/plain": [
              "0"
            ]
          },
          "metadata": {},
          "execution_count": 11
        }
      ]
    },
    {
      "cell_type": "markdown",
      "source": [
        "#7.How is the correlation between Data?"
      ],
      "metadata": {
        "id": "H8TWxeJvXjYk"
      }
    },
    {
      "cell_type": "code",
      "source": [
        "df.corr()"
      ],
      "metadata": {
        "colab": {
          "base_uri": "https://localhost:8080/",
          "height": 367
        },
        "id": "QRCCthbeXh3l",
        "outputId": "97b337f2-9154-4786-9ea5-acc82732e0e6"
      },
      "execution_count": 12,
      "outputs": [
        {
          "output_type": "stream",
          "name": "stderr",
          "text": [
            "<ipython-input-12-2f6f6606aa2c>:1: FutureWarning: The default value of numeric_only in DataFrame.corr is deprecated. In a future version, it will default to False. Select only valid columns or specify the value of numeric_only to silence this warning.\n",
            "  df.corr()\n"
          ]
        },
        {
          "output_type": "execute_result",
          "data": {
            "text/plain": [
              "             PassengerId  Survived    Pclass       Age     SibSp     Parch  \\\n",
              "PassengerId     1.000000 -0.005007 -0.035144  0.036847 -0.057527 -0.001652   \n",
              "Survived       -0.005007  1.000000 -0.338481 -0.077221 -0.035322  0.081629   \n",
              "Pclass         -0.035144 -0.338481  1.000000 -0.369226  0.083081  0.018443   \n",
              "Age             0.036847 -0.077221 -0.369226  1.000000 -0.308247 -0.189119   \n",
              "SibSp          -0.057527 -0.035322  0.083081 -0.308247  1.000000  0.414838   \n",
              "Parch          -0.001652  0.081629  0.018443 -0.189119  0.414838  1.000000   \n",
              "Fare            0.012658  0.257307 -0.549500  0.096067  0.159651  0.216225   \n",
              "\n",
              "                 Fare  \n",
              "PassengerId  0.012658  \n",
              "Survived     0.257307  \n",
              "Pclass      -0.549500  \n",
              "Age          0.096067  \n",
              "SibSp        0.159651  \n",
              "Parch        0.216225  \n",
              "Fare         1.000000  "
            ],
            "text/html": [
              "\n",
              "\n",
              "  <div id=\"df-0529477a-637d-4b9e-b9d7-cf7e29e92dc6\">\n",
              "    <div class=\"colab-df-container\">\n",
              "      <div>\n",
              "<style scoped>\n",
              "    .dataframe tbody tr th:only-of-type {\n",
              "        vertical-align: middle;\n",
              "    }\n",
              "\n",
              "    .dataframe tbody tr th {\n",
              "        vertical-align: top;\n",
              "    }\n",
              "\n",
              "    .dataframe thead th {\n",
              "        text-align: right;\n",
              "    }\n",
              "</style>\n",
              "<table border=\"1\" class=\"dataframe\">\n",
              "  <thead>\n",
              "    <tr style=\"text-align: right;\">\n",
              "      <th></th>\n",
              "      <th>PassengerId</th>\n",
              "      <th>Survived</th>\n",
              "      <th>Pclass</th>\n",
              "      <th>Age</th>\n",
              "      <th>SibSp</th>\n",
              "      <th>Parch</th>\n",
              "      <th>Fare</th>\n",
              "    </tr>\n",
              "  </thead>\n",
              "  <tbody>\n",
              "    <tr>\n",
              "      <th>PassengerId</th>\n",
              "      <td>1.000000</td>\n",
              "      <td>-0.005007</td>\n",
              "      <td>-0.035144</td>\n",
              "      <td>0.036847</td>\n",
              "      <td>-0.057527</td>\n",
              "      <td>-0.001652</td>\n",
              "      <td>0.012658</td>\n",
              "    </tr>\n",
              "    <tr>\n",
              "      <th>Survived</th>\n",
              "      <td>-0.005007</td>\n",
              "      <td>1.000000</td>\n",
              "      <td>-0.338481</td>\n",
              "      <td>-0.077221</td>\n",
              "      <td>-0.035322</td>\n",
              "      <td>0.081629</td>\n",
              "      <td>0.257307</td>\n",
              "    </tr>\n",
              "    <tr>\n",
              "      <th>Pclass</th>\n",
              "      <td>-0.035144</td>\n",
              "      <td>-0.338481</td>\n",
              "      <td>1.000000</td>\n",
              "      <td>-0.369226</td>\n",
              "      <td>0.083081</td>\n",
              "      <td>0.018443</td>\n",
              "      <td>-0.549500</td>\n",
              "    </tr>\n",
              "    <tr>\n",
              "      <th>Age</th>\n",
              "      <td>0.036847</td>\n",
              "      <td>-0.077221</td>\n",
              "      <td>-0.369226</td>\n",
              "      <td>1.000000</td>\n",
              "      <td>-0.308247</td>\n",
              "      <td>-0.189119</td>\n",
              "      <td>0.096067</td>\n",
              "    </tr>\n",
              "    <tr>\n",
              "      <th>SibSp</th>\n",
              "      <td>-0.057527</td>\n",
              "      <td>-0.035322</td>\n",
              "      <td>0.083081</td>\n",
              "      <td>-0.308247</td>\n",
              "      <td>1.000000</td>\n",
              "      <td>0.414838</td>\n",
              "      <td>0.159651</td>\n",
              "    </tr>\n",
              "    <tr>\n",
              "      <th>Parch</th>\n",
              "      <td>-0.001652</td>\n",
              "      <td>0.081629</td>\n",
              "      <td>0.018443</td>\n",
              "      <td>-0.189119</td>\n",
              "      <td>0.414838</td>\n",
              "      <td>1.000000</td>\n",
              "      <td>0.216225</td>\n",
              "    </tr>\n",
              "    <tr>\n",
              "      <th>Fare</th>\n",
              "      <td>0.012658</td>\n",
              "      <td>0.257307</td>\n",
              "      <td>-0.549500</td>\n",
              "      <td>0.096067</td>\n",
              "      <td>0.159651</td>\n",
              "      <td>0.216225</td>\n",
              "      <td>1.000000</td>\n",
              "    </tr>\n",
              "  </tbody>\n",
              "</table>\n",
              "</div>\n",
              "      <button class=\"colab-df-convert\" onclick=\"convertToInteractive('df-0529477a-637d-4b9e-b9d7-cf7e29e92dc6')\"\n",
              "              title=\"Convert this dataframe to an interactive table.\"\n",
              "              style=\"display:none;\">\n",
              "\n",
              "  <svg xmlns=\"http://www.w3.org/2000/svg\" height=\"24px\"viewBox=\"0 0 24 24\"\n",
              "       width=\"24px\">\n",
              "    <path d=\"M0 0h24v24H0V0z\" fill=\"none\"/>\n",
              "    <path d=\"M18.56 5.44l.94 2.06.94-2.06 2.06-.94-2.06-.94-.94-2.06-.94 2.06-2.06.94zm-11 1L8.5 8.5l.94-2.06 2.06-.94-2.06-.94L8.5 2.5l-.94 2.06-2.06.94zm10 10l.94 2.06.94-2.06 2.06-.94-2.06-.94-.94-2.06-.94 2.06-2.06.94z\"/><path d=\"M17.41 7.96l-1.37-1.37c-.4-.4-.92-.59-1.43-.59-.52 0-1.04.2-1.43.59L10.3 9.45l-7.72 7.72c-.78.78-.78 2.05 0 2.83L4 21.41c.39.39.9.59 1.41.59.51 0 1.02-.2 1.41-.59l7.78-7.78 2.81-2.81c.8-.78.8-2.07 0-2.86zM5.41 20L4 18.59l7.72-7.72 1.47 1.35L5.41 20z\"/>\n",
              "  </svg>\n",
              "      </button>\n",
              "\n",
              "\n",
              "\n",
              "    <div id=\"df-9772d1ae-3bd7-4e27-88a2-f9352d31202b\">\n",
              "      <button class=\"colab-df-quickchart\" onclick=\"quickchart('df-9772d1ae-3bd7-4e27-88a2-f9352d31202b')\"\n",
              "              title=\"Suggest charts.\"\n",
              "              style=\"display:none;\">\n",
              "\n",
              "<svg xmlns=\"http://www.w3.org/2000/svg\" height=\"24px\"viewBox=\"0 0 24 24\"\n",
              "     width=\"24px\">\n",
              "    <g>\n",
              "        <path d=\"M19 3H5c-1.1 0-2 .9-2 2v14c0 1.1.9 2 2 2h14c1.1 0 2-.9 2-2V5c0-1.1-.9-2-2-2zM9 17H7v-7h2v7zm4 0h-2V7h2v10zm4 0h-2v-4h2v4z\"/>\n",
              "    </g>\n",
              "</svg>\n",
              "      </button>\n",
              "    </div>\n",
              "\n",
              "<style>\n",
              "  .colab-df-quickchart {\n",
              "    background-color: #E8F0FE;\n",
              "    border: none;\n",
              "    border-radius: 50%;\n",
              "    cursor: pointer;\n",
              "    display: none;\n",
              "    fill: #1967D2;\n",
              "    height: 32px;\n",
              "    padding: 0 0 0 0;\n",
              "    width: 32px;\n",
              "  }\n",
              "\n",
              "  .colab-df-quickchart:hover {\n",
              "    background-color: #E2EBFA;\n",
              "    box-shadow: 0px 1px 2px rgba(60, 64, 67, 0.3), 0px 1px 3px 1px rgba(60, 64, 67, 0.15);\n",
              "    fill: #174EA6;\n",
              "  }\n",
              "\n",
              "  [theme=dark] .colab-df-quickchart {\n",
              "    background-color: #3B4455;\n",
              "    fill: #D2E3FC;\n",
              "  }\n",
              "\n",
              "  [theme=dark] .colab-df-quickchart:hover {\n",
              "    background-color: #434B5C;\n",
              "    box-shadow: 0px 1px 3px 1px rgba(0, 0, 0, 0.15);\n",
              "    filter: drop-shadow(0px 1px 2px rgba(0, 0, 0, 0.3));\n",
              "    fill: #FFFFFF;\n",
              "  }\n",
              "</style>\n",
              "\n",
              "    <script>\n",
              "      async function quickchart(key) {\n",
              "        const containerElement = document.querySelector('#' + key);\n",
              "        const charts = await google.colab.kernel.invokeFunction(\n",
              "            'suggestCharts', [key], {});\n",
              "      }\n",
              "    </script>\n",
              "\n",
              "      <script>\n",
              "\n",
              "function displayQuickchartButton(domScope) {\n",
              "  let quickchartButtonEl =\n",
              "    domScope.querySelector('#df-9772d1ae-3bd7-4e27-88a2-f9352d31202b button.colab-df-quickchart');\n",
              "  quickchartButtonEl.style.display =\n",
              "    google.colab.kernel.accessAllowed ? 'block' : 'none';\n",
              "}\n",
              "\n",
              "        displayQuickchartButton(document);\n",
              "      </script>\n",
              "      <style>\n",
              "    .colab-df-container {\n",
              "      display:flex;\n",
              "      flex-wrap:wrap;\n",
              "      gap: 12px;\n",
              "    }\n",
              "\n",
              "    .colab-df-convert {\n",
              "      background-color: #E8F0FE;\n",
              "      border: none;\n",
              "      border-radius: 50%;\n",
              "      cursor: pointer;\n",
              "      display: none;\n",
              "      fill: #1967D2;\n",
              "      height: 32px;\n",
              "      padding: 0 0 0 0;\n",
              "      width: 32px;\n",
              "    }\n",
              "\n",
              "    .colab-df-convert:hover {\n",
              "      background-color: #E2EBFA;\n",
              "      box-shadow: 0px 1px 2px rgba(60, 64, 67, 0.3), 0px 1px 3px 1px rgba(60, 64, 67, 0.15);\n",
              "      fill: #174EA6;\n",
              "    }\n",
              "\n",
              "    [theme=dark] .colab-df-convert {\n",
              "      background-color: #3B4455;\n",
              "      fill: #D2E3FC;\n",
              "    }\n",
              "\n",
              "    [theme=dark] .colab-df-convert:hover {\n",
              "      background-color: #434B5C;\n",
              "      box-shadow: 0px 1px 3px 1px rgba(0, 0, 0, 0.15);\n",
              "      filter: drop-shadow(0px 1px 2px rgba(0, 0, 0, 0.3));\n",
              "      fill: #FFFFFF;\n",
              "    }\n",
              "  </style>\n",
              "\n",
              "      <script>\n",
              "        const buttonEl =\n",
              "          document.querySelector('#df-0529477a-637d-4b9e-b9d7-cf7e29e92dc6 button.colab-df-convert');\n",
              "        buttonEl.style.display =\n",
              "          google.colab.kernel.accessAllowed ? 'block' : 'none';\n",
              "\n",
              "        async function convertToInteractive(key) {\n",
              "          const element = document.querySelector('#df-0529477a-637d-4b9e-b9d7-cf7e29e92dc6');\n",
              "          const dataTable =\n",
              "            await google.colab.kernel.invokeFunction('convertToInteractive',\n",
              "                                                     [key], {});\n",
              "          if (!dataTable) return;\n",
              "\n",
              "          const docLinkHtml = 'Like what you see? Visit the ' +\n",
              "            '<a target=\"_blank\" href=https://colab.research.google.com/notebooks/data_table.ipynb>data table notebook</a>'\n",
              "            + ' to learn more about interactive tables.';\n",
              "          element.innerHTML = '';\n",
              "          dataTable['output_type'] = 'display_data';\n",
              "          await google.colab.output.renderOutput(dataTable, element);\n",
              "          const docLink = document.createElement('div');\n",
              "          docLink.innerHTML = docLinkHtml;\n",
              "          element.appendChild(docLink);\n",
              "        }\n",
              "      </script>\n",
              "    </div>\n",
              "  </div>\n"
            ]
          },
          "metadata": {},
          "execution_count": 12
        }
      ]
    },
    {
      "cell_type": "code",
      "source": [
        "df.corr()['Survived']"
      ],
      "metadata": {
        "colab": {
          "base_uri": "https://localhost:8080/"
        },
        "id": "fxmWbv2KXsS8",
        "outputId": "3079ae5b-fd87-49d6-ff5f-179e9a4c0ecd"
      },
      "execution_count": 13,
      "outputs": [
        {
          "output_type": "stream",
          "name": "stderr",
          "text": [
            "<ipython-input-13-57d70bb92b5b>:1: FutureWarning: The default value of numeric_only in DataFrame.corr is deprecated. In a future version, it will default to False. Select only valid columns or specify the value of numeric_only to silence this warning.\n",
            "  df.corr()['Survived']\n"
          ]
        },
        {
          "output_type": "execute_result",
          "data": {
            "text/plain": [
              "PassengerId   -0.005007\n",
              "Survived       1.000000\n",
              "Pclass        -0.338481\n",
              "Age           -0.077221\n",
              "SibSp         -0.035322\n",
              "Parch          0.081629\n",
              "Fare           0.257307\n",
              "Name: Survived, dtype: float64"
            ]
          },
          "metadata": {},
          "execution_count": 13
        }
      ]
    },
    {
      "cell_type": "markdown",
      "source": [
        "#D20\n",
        "EDA ➖ Exploratory data Analysis ➖purpose is to understand data in and out.\n",
        "\n",
        "Univariant Analysis➖When you analyse a single column then it is called univariant analysis."
      ],
      "metadata": {
        "id": "iPHWt5JpaXK5"
      }
    },
    {
      "cell_type": "code",
      "source": [
        "df.head()"
      ],
      "metadata": {
        "colab": {
          "base_uri": "https://localhost:8080/",
          "height": 547
        },
        "id": "g_jr073kahz0",
        "outputId": "906003ed-b087-4c93-ffd4-b111a19284ee"
      },
      "execution_count": 14,
      "outputs": [
        {
          "output_type": "execute_result",
          "data": {
            "text/plain": [
              "   PassengerId  Survived  Pclass  \\\n",
              "0            1         0       3   \n",
              "1            2         1       1   \n",
              "2            3         1       3   \n",
              "3            4         1       1   \n",
              "4            5         0       3   \n",
              "\n",
              "                                                Name     Sex   Age  SibSp  \\\n",
              "0                            Braund, Mr. Owen Harris    male  22.0      1   \n",
              "1  Cumings, Mrs. John Bradley (Florence Briggs Th...  female  38.0      1   \n",
              "2                             Heikkinen, Miss. Laina  female  26.0      0   \n",
              "3       Futrelle, Mrs. Jacques Heath (Lily May Peel)  female  35.0      1   \n",
              "4                           Allen, Mr. William Henry    male  35.0      0   \n",
              "\n",
              "   Parch            Ticket     Fare Cabin Embarked  \n",
              "0      0         A/5 21171   7.2500   NaN        S  \n",
              "1      0          PC 17599  71.2833   C85        C  \n",
              "2      0  STON/O2. 3101282   7.9250   NaN        S  \n",
              "3      0            113803  53.1000  C123        S  \n",
              "4      0            373450   8.0500   NaN        S  "
            ],
            "text/html": [
              "\n",
              "\n",
              "  <div id=\"df-8d846e63-e29e-45ee-a711-48ec28a8aa1f\">\n",
              "    <div class=\"colab-df-container\">\n",
              "      <div>\n",
              "<style scoped>\n",
              "    .dataframe tbody tr th:only-of-type {\n",
              "        vertical-align: middle;\n",
              "    }\n",
              "\n",
              "    .dataframe tbody tr th {\n",
              "        vertical-align: top;\n",
              "    }\n",
              "\n",
              "    .dataframe thead th {\n",
              "        text-align: right;\n",
              "    }\n",
              "</style>\n",
              "<table border=\"1\" class=\"dataframe\">\n",
              "  <thead>\n",
              "    <tr style=\"text-align: right;\">\n",
              "      <th></th>\n",
              "      <th>PassengerId</th>\n",
              "      <th>Survived</th>\n",
              "      <th>Pclass</th>\n",
              "      <th>Name</th>\n",
              "      <th>Sex</th>\n",
              "      <th>Age</th>\n",
              "      <th>SibSp</th>\n",
              "      <th>Parch</th>\n",
              "      <th>Ticket</th>\n",
              "      <th>Fare</th>\n",
              "      <th>Cabin</th>\n",
              "      <th>Embarked</th>\n",
              "    </tr>\n",
              "  </thead>\n",
              "  <tbody>\n",
              "    <tr>\n",
              "      <th>0</th>\n",
              "      <td>1</td>\n",
              "      <td>0</td>\n",
              "      <td>3</td>\n",
              "      <td>Braund, Mr. Owen Harris</td>\n",
              "      <td>male</td>\n",
              "      <td>22.0</td>\n",
              "      <td>1</td>\n",
              "      <td>0</td>\n",
              "      <td>A/5 21171</td>\n",
              "      <td>7.2500</td>\n",
              "      <td>NaN</td>\n",
              "      <td>S</td>\n",
              "    </tr>\n",
              "    <tr>\n",
              "      <th>1</th>\n",
              "      <td>2</td>\n",
              "      <td>1</td>\n",
              "      <td>1</td>\n",
              "      <td>Cumings, Mrs. John Bradley (Florence Briggs Th...</td>\n",
              "      <td>female</td>\n",
              "      <td>38.0</td>\n",
              "      <td>1</td>\n",
              "      <td>0</td>\n",
              "      <td>PC 17599</td>\n",
              "      <td>71.2833</td>\n",
              "      <td>C85</td>\n",
              "      <td>C</td>\n",
              "    </tr>\n",
              "    <tr>\n",
              "      <th>2</th>\n",
              "      <td>3</td>\n",
              "      <td>1</td>\n",
              "      <td>3</td>\n",
              "      <td>Heikkinen, Miss. Laina</td>\n",
              "      <td>female</td>\n",
              "      <td>26.0</td>\n",
              "      <td>0</td>\n",
              "      <td>0</td>\n",
              "      <td>STON/O2. 3101282</td>\n",
              "      <td>7.9250</td>\n",
              "      <td>NaN</td>\n",
              "      <td>S</td>\n",
              "    </tr>\n",
              "    <tr>\n",
              "      <th>3</th>\n",
              "      <td>4</td>\n",
              "      <td>1</td>\n",
              "      <td>1</td>\n",
              "      <td>Futrelle, Mrs. Jacques Heath (Lily May Peel)</td>\n",
              "      <td>female</td>\n",
              "      <td>35.0</td>\n",
              "      <td>1</td>\n",
              "      <td>0</td>\n",
              "      <td>113803</td>\n",
              "      <td>53.1000</td>\n",
              "      <td>C123</td>\n",
              "      <td>S</td>\n",
              "    </tr>\n",
              "    <tr>\n",
              "      <th>4</th>\n",
              "      <td>5</td>\n",
              "      <td>0</td>\n",
              "      <td>3</td>\n",
              "      <td>Allen, Mr. William Henry</td>\n",
              "      <td>male</td>\n",
              "      <td>35.0</td>\n",
              "      <td>0</td>\n",
              "      <td>0</td>\n",
              "      <td>373450</td>\n",
              "      <td>8.0500</td>\n",
              "      <td>NaN</td>\n",
              "      <td>S</td>\n",
              "    </tr>\n",
              "  </tbody>\n",
              "</table>\n",
              "</div>\n",
              "      <button class=\"colab-df-convert\" onclick=\"convertToInteractive('df-8d846e63-e29e-45ee-a711-48ec28a8aa1f')\"\n",
              "              title=\"Convert this dataframe to an interactive table.\"\n",
              "              style=\"display:none;\">\n",
              "\n",
              "  <svg xmlns=\"http://www.w3.org/2000/svg\" height=\"24px\"viewBox=\"0 0 24 24\"\n",
              "       width=\"24px\">\n",
              "    <path d=\"M0 0h24v24H0V0z\" fill=\"none\"/>\n",
              "    <path d=\"M18.56 5.44l.94 2.06.94-2.06 2.06-.94-2.06-.94-.94-2.06-.94 2.06-2.06.94zm-11 1L8.5 8.5l.94-2.06 2.06-.94-2.06-.94L8.5 2.5l-.94 2.06-2.06.94zm10 10l.94 2.06.94-2.06 2.06-.94-2.06-.94-.94-2.06-.94 2.06-2.06.94z\"/><path d=\"M17.41 7.96l-1.37-1.37c-.4-.4-.92-.59-1.43-.59-.52 0-1.04.2-1.43.59L10.3 9.45l-7.72 7.72c-.78.78-.78 2.05 0 2.83L4 21.41c.39.39.9.59 1.41.59.51 0 1.02-.2 1.41-.59l7.78-7.78 2.81-2.81c.8-.78.8-2.07 0-2.86zM5.41 20L4 18.59l7.72-7.72 1.47 1.35L5.41 20z\"/>\n",
              "  </svg>\n",
              "      </button>\n",
              "\n",
              "\n",
              "\n",
              "    <div id=\"df-2b4b1883-09f1-4acf-a7e6-ec65ef720f6f\">\n",
              "      <button class=\"colab-df-quickchart\" onclick=\"quickchart('df-2b4b1883-09f1-4acf-a7e6-ec65ef720f6f')\"\n",
              "              title=\"Suggest charts.\"\n",
              "              style=\"display:none;\">\n",
              "\n",
              "<svg xmlns=\"http://www.w3.org/2000/svg\" height=\"24px\"viewBox=\"0 0 24 24\"\n",
              "     width=\"24px\">\n",
              "    <g>\n",
              "        <path d=\"M19 3H5c-1.1 0-2 .9-2 2v14c0 1.1.9 2 2 2h14c1.1 0 2-.9 2-2V5c0-1.1-.9-2-2-2zM9 17H7v-7h2v7zm4 0h-2V7h2v10zm4 0h-2v-4h2v4z\"/>\n",
              "    </g>\n",
              "</svg>\n",
              "      </button>\n",
              "    </div>\n",
              "\n",
              "<style>\n",
              "  .colab-df-quickchart {\n",
              "    background-color: #E8F0FE;\n",
              "    border: none;\n",
              "    border-radius: 50%;\n",
              "    cursor: pointer;\n",
              "    display: none;\n",
              "    fill: #1967D2;\n",
              "    height: 32px;\n",
              "    padding: 0 0 0 0;\n",
              "    width: 32px;\n",
              "  }\n",
              "\n",
              "  .colab-df-quickchart:hover {\n",
              "    background-color: #E2EBFA;\n",
              "    box-shadow: 0px 1px 2px rgba(60, 64, 67, 0.3), 0px 1px 3px 1px rgba(60, 64, 67, 0.15);\n",
              "    fill: #174EA6;\n",
              "  }\n",
              "\n",
              "  [theme=dark] .colab-df-quickchart {\n",
              "    background-color: #3B4455;\n",
              "    fill: #D2E3FC;\n",
              "  }\n",
              "\n",
              "  [theme=dark] .colab-df-quickchart:hover {\n",
              "    background-color: #434B5C;\n",
              "    box-shadow: 0px 1px 3px 1px rgba(0, 0, 0, 0.15);\n",
              "    filter: drop-shadow(0px 1px 2px rgba(0, 0, 0, 0.3));\n",
              "    fill: #FFFFFF;\n",
              "  }\n",
              "</style>\n",
              "\n",
              "    <script>\n",
              "      async function quickchart(key) {\n",
              "        const containerElement = document.querySelector('#' + key);\n",
              "        const charts = await google.colab.kernel.invokeFunction(\n",
              "            'suggestCharts', [key], {});\n",
              "      }\n",
              "    </script>\n",
              "\n",
              "      <script>\n",
              "\n",
              "function displayQuickchartButton(domScope) {\n",
              "  let quickchartButtonEl =\n",
              "    domScope.querySelector('#df-2b4b1883-09f1-4acf-a7e6-ec65ef720f6f button.colab-df-quickchart');\n",
              "  quickchartButtonEl.style.display =\n",
              "    google.colab.kernel.accessAllowed ? 'block' : 'none';\n",
              "}\n",
              "\n",
              "        displayQuickchartButton(document);\n",
              "      </script>\n",
              "      <style>\n",
              "    .colab-df-container {\n",
              "      display:flex;\n",
              "      flex-wrap:wrap;\n",
              "      gap: 12px;\n",
              "    }\n",
              "\n",
              "    .colab-df-convert {\n",
              "      background-color: #E8F0FE;\n",
              "      border: none;\n",
              "      border-radius: 50%;\n",
              "      cursor: pointer;\n",
              "      display: none;\n",
              "      fill: #1967D2;\n",
              "      height: 32px;\n",
              "      padding: 0 0 0 0;\n",
              "      width: 32px;\n",
              "    }\n",
              "\n",
              "    .colab-df-convert:hover {\n",
              "      background-color: #E2EBFA;\n",
              "      box-shadow: 0px 1px 2px rgba(60, 64, 67, 0.3), 0px 1px 3px 1px rgba(60, 64, 67, 0.15);\n",
              "      fill: #174EA6;\n",
              "    }\n",
              "\n",
              "    [theme=dark] .colab-df-convert {\n",
              "      background-color: #3B4455;\n",
              "      fill: #D2E3FC;\n",
              "    }\n",
              "\n",
              "    [theme=dark] .colab-df-convert:hover {\n",
              "      background-color: #434B5C;\n",
              "      box-shadow: 0px 1px 3px 1px rgba(0, 0, 0, 0.15);\n",
              "      filter: drop-shadow(0px 1px 2px rgba(0, 0, 0, 0.3));\n",
              "      fill: #FFFFFF;\n",
              "    }\n",
              "  </style>\n",
              "\n",
              "      <script>\n",
              "        const buttonEl =\n",
              "          document.querySelector('#df-8d846e63-e29e-45ee-a711-48ec28a8aa1f button.colab-df-convert');\n",
              "        buttonEl.style.display =\n",
              "          google.colab.kernel.accessAllowed ? 'block' : 'none';\n",
              "\n",
              "        async function convertToInteractive(key) {\n",
              "          const element = document.querySelector('#df-8d846e63-e29e-45ee-a711-48ec28a8aa1f');\n",
              "          const dataTable =\n",
              "            await google.colab.kernel.invokeFunction('convertToInteractive',\n",
              "                                                     [key], {});\n",
              "          if (!dataTable) return;\n",
              "\n",
              "          const docLinkHtml = 'Like what you see? Visit the ' +\n",
              "            '<a target=\"_blank\" href=https://colab.research.google.com/notebooks/data_table.ipynb>data table notebook</a>'\n",
              "            + ' to learn more about interactive tables.';\n",
              "          element.innerHTML = '';\n",
              "          dataTable['output_type'] = 'display_data';\n",
              "          await google.colab.output.renderOutput(dataTable, element);\n",
              "          const docLink = document.createElement('div');\n",
              "          docLink.innerHTML = docLinkHtml;\n",
              "          element.appendChild(docLink);\n",
              "        }\n",
              "      </script>\n",
              "    </div>\n",
              "  </div>\n"
            ]
          },
          "metadata": {},
          "execution_count": 14
        }
      ]
    },
    {
      "cell_type": "markdown",
      "source": [
        "#1. Categorical Data\n",
        "* Countplot"
      ],
      "metadata": {
        "id": "TothLU_jasnZ"
      }
    },
    {
      "cell_type": "code",
      "source": [
        "sns.countplot(x=df['Survived'])"
      ],
      "metadata": {
        "colab": {
          "base_uri": "https://localhost:8080/",
          "height": 466
        },
        "id": "HED-9c7tao8s",
        "outputId": "c4938777-758b-4b26-abb3-87ac8ea94696"
      },
      "execution_count": 15,
      "outputs": [
        {
          "output_type": "execute_result",
          "data": {
            "text/plain": [
              "<Axes: xlabel='Survived', ylabel='count'>"
            ]
          },
          "metadata": {},
          "execution_count": 15
        },
        {
          "output_type": "display_data",
          "data": {
            "text/plain": [
              "<Figure size 640x480 with 1 Axes>"
            ],
            "image/png": "[encoded data removed]"
          },
          "metadata": {}
        }
      ]
    },
    {
      "cell_type": "code",
      "source": [
        "df['Survived'].value_counts().plot(kind='bar')"
      ],
      "metadata": {
        "colab": {
          "base_uri": "https://localhost:8080/",
          "height": 442
        },
        "id": "AUGAiV3Rp4mg",
        "outputId": "759e84e8-3729-44c3-bfa5-1fb5c302bf7f"
      },
      "execution_count": 16,
      "outputs": [
        {
          "output_type": "execute_result",
          "data": {
            "text/plain": [
              "<Axes: >"
            ]
          },
          "metadata": {},
          "execution_count": 16
        },
        {
          "output_type": "display_data",
          "data": {
            "text/plain": [
              "<Figure size 640x480 with 1 Axes>"
            ],
            "image/png": "[encoded data removed]"
          },
          "metadata": {}
        }
      ]
    },
    {
      "cell_type": "code",
      "source": [
        "sns.countplot(data=df, x=\"Pclass\")"
      ],
      "metadata": {
        "colab": {
          "base_uri": "https://localhost:8080/",
          "height": 466
        },
        "id": "dJVyRxVBb7-V",
        "outputId": "ba4b6ffc-d930-4725-8dca-a18d4a5fd8e4"
      },
      "execution_count": 17,
      "outputs": [
        {
          "output_type": "execute_result",
          "data": {
            "text/plain": [
              "<Axes: xlabel='Pclass', ylabel='count'>"
            ]
          },
          "metadata": {},
          "execution_count": 17
        },
        {
          "output_type": "display_data",
          "data": {
            "text/plain": [
              "<Figure size 640x480 with 1 Axes>"
            ],
            "image/png": "[encoded data removed]"
          },
          "metadata": {}
        }
      ]
    },
    {
      "cell_type": "code",
      "source": [
        "sns.countplot(data=df, x=\"Pclass\", hue=\"Survived\")"
      ],
      "metadata": {
        "colab": {
          "base_uri": "https://localhost:8080/",
          "height": 466
        },
        "id": "MIWT8KDiml7H",
        "outputId": "853a827f-6f45-4b79-9784-b1da93379882"
      },
      "execution_count": 18,
      "outputs": [
        {
          "output_type": "execute_result",
          "data": {
            "text/plain": [
              "<Axes: xlabel='Pclass', ylabel='count'>"
            ]
          },
          "metadata": {},
          "execution_count": 18
        },
        {
          "output_type": "display_data",
          "data": {
            "text/plain": [
              "<Figure size 640x480 with 1 Axes>"
            ],
            "image/png": "[encoded data removed]"
          },
          "metadata": {}
        }
      ]
    },
    {
      "cell_type": "markdown",
      "source": [
        "#b. Pie Chart"
      ],
      "metadata": {
        "id": "BeSv-uCMoczB"
      }
    },
    {
      "cell_type": "code",
      "source": [
        "df['Survived'].value_counts().plot(kind='pie', autopct='%.2f')"
      ],
      "metadata": {
        "colab": {
          "base_uri": "https://localhost:8080/",
          "height": 423
        },
        "id": "WPGIeiPsrYe9",
        "outputId": "8d8d73c1-98b4-4d02-8d49-53886fd0dfed"
      },
      "execution_count": 19,
      "outputs": [
        {
          "output_type": "execute_result",
          "data": {
            "text/plain": [
              "<Axes: ylabel='Survived'>"
            ]
          },
          "metadata": {},
          "execution_count": 19
        },
        {
          "output_type": "display_data",
          "data": {
            "text/plain": [
              "<Figure size 640x480 with 1 Axes>"
            ],
            "image/png": "[encoded data removed]"
          },
          "metadata": {}
        }
      ]
    },
    {
      "cell_type": "markdown",
      "source": [
        "#2. Numerical Data"
      ],
      "metadata": {
        "id": "rVempnKEreRV"
      }
    },
    {
      "cell_type": "markdown",
      "source": [
        "a. Histogram"
      ],
      "metadata": {
        "id": "uL7XzPLwr8uW"
      }
    },
    {
      "cell_type": "code",
      "source": [
        "import matplotlib.pyplot as plt\n",
        "plt.hist(df['Age'], bins=10)"
      ],
      "metadata": {
        "colab": {
          "base_uri": "https://localhost:8080/",
          "height": 499
        },
        "id": "5PnoaW7NsEam",
        "outputId": "980568b9-602e-48f7-b251-ab250ed3d4ee"
      },
      "execution_count": 20,
      "outputs": [
        {
          "output_type": "execute_result",
          "data": {
            "text/plain": [
              "(array([ 54.,  46., 177., 169., 118.,  70.,  45.,  24.,   9.,   2.]),\n",
              " array([ 0.42 ,  8.378, 16.336, 24.294, 32.252, 40.21 , 48.168, 56.126,\n",
              "        64.084, 72.042, 80.   ]),\n",
              " <BarContainer object of 10 artists>)"
            ]
          },
          "metadata": {},
          "execution_count": 20
        },
        {
          "output_type": "display_data",
          "data": {
            "text/plain": [
              "<Figure size 640x480 with 1 Axes>"
            ],
            "image/png": "[encoded data removed]"
          },
          "metadata": {}
        }
      ]
    },
    {
      "cell_type": "markdown",
      "source": [
        "#b. Distplot"
      ],
      "metadata": {
        "id": "pCUW5jVRsgCk"
      }
    },
    {
      "cell_type": "code",
      "source": [
        "sns.distplot(df['Age'])"
      ],
      "metadata": {
        "colab": {
          "base_uri": "https://localhost:8080/",
          "height": 657
        },
        "id": "njGAN1hPswN8",
        "outputId": "9084d753-f5bc-4906-f11b-28352927dc8f"
      },
      "execution_count": 21,
      "outputs": [
        {
          "output_type": "stream",
          "name": "stderr",
          "text": [
            "<ipython-input-21-0fafe04ea3f6>:1: UserWarning: \n",
            "\n",
            "`distplot` is a deprecated function and will be removed in seaborn v0.14.0.\n",
            "\n",
            "Please adapt your code to use either `displot` (a figure-level function with\n",
            "similar flexibility) or `histplot` (an axes-level function for histograms).\n",
            "\n",
            "For a guide to updating your code to use the new functions, please see\n",
            "https://gist.github.com/mwaskom/de44147ed2974457ad6372750bbe5751\n",
            "\n",
            "  sns.distplot(df['Age'])\n"
          ]
        },
        {
          "output_type": "execute_result",
          "data": {
            "text/plain": [
              "<Axes: xlabel='Age', ylabel='Density'>"
            ]
          },
          "metadata": {},
          "execution_count": 21
        },
        {
          "output_type": "display_data",
          "data": {
            "text/plain": [
              "<Figure size 640x480 with 1 Axes>"
            ],
            "image/png": "[encoded data removed]"
          },
          "metadata": {}
        }
      ]
    },
    {
      "cell_type": "markdown",
      "source": [
        "#c. Boxplot"
      ],
      "metadata": {
        "id": "iiymwTdBs1V8"
      }
    },
    {
      "cell_type": "markdown",
      "source": [
        "![image.png](data:image/png;base64,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)\n",
        "Helps To remove Outliers"
      ],
      "metadata": {
        "id": "2NFKcbTFtTTb"
      }
    },
    {
      "cell_type": "code",
      "source": [
        "sns.boxplot(x=df['Age'])"
      ],
      "metadata": {
        "colab": {
          "base_uri": "https://localhost:8080/",
          "height": 466
        },
        "id": "gXmf55WNvn7L",
        "outputId": "a2c30b29-c422-4fb3-f83c-1a62a26b1237"
      },
      "execution_count": 22,
      "outputs": [
        {
          "output_type": "execute_result",
          "data": {
            "text/plain": [
              "<Axes: xlabel='Age'>"
            ]
          },
          "metadata": {},
          "execution_count": 22
        },
        {
          "output_type": "display_data",
          "data": {
            "text/plain": [
              "<Figure size 640x480 with 1 Axes>"
            ],
            "image/png": "[encoded data removed]"
          },
          "metadata": {}
        }
      ]
    },
    {
      "cell_type": "code",
      "source": [
        "df['Age'].min()"
      ],
      "metadata": {
        "colab": {
          "base_uri": "https://localhost:8080/"
        },
        "id": "AqS9dVI5vulb",
        "outputId": "fa869271-2cbe-402e-aa0d-ca8e4eeb6c6f"
      },
      "execution_count": 23,
      "outputs": [
        {
          "output_type": "execute_result",
          "data": {
            "text/plain": [
              "0.42"
            ]
          },
          "metadata": {},
          "execution_count": 23
        }
      ]
    },
    {
      "cell_type": "code",
      "source": [
        "df['Age'].max()"
      ],
      "metadata": {
        "colab": {
          "base_uri": "https://localhost:8080/"
        },
        "id": "LOgu1NmsweTr",
        "outputId": "80406cf5-0854-49b9-c136-44b8f2b03163"
      },
      "execution_count": 24,
      "outputs": [
        {
          "output_type": "execute_result",
          "data": {
            "text/plain": [
              "80.0"
            ]
          },
          "metadata": {},
          "execution_count": 24
        }
      ]
    },
    {
      "cell_type": "code",
      "source": [
        "df['Age'].mean()"
      ],
      "metadata": {
        "colab": {
          "base_uri": "https://localhost:8080/"
        },
        "id": "pO-Ouu0fxFST",
        "outputId": "7046ee85-9caf-4db4-fe5a-05a164092608"
      },
      "execution_count": 25,
      "outputs": [
        {
          "output_type": "execute_result",
          "data": {
            "text/plain": [
              "29.69911764705882"
            ]
          },
          "metadata": {},
          "execution_count": 25
        }
      ]
    },
    {
      "cell_type": "code",
      "source": [
        "df['Age'].skew()"
      ],
      "metadata": {
        "colab": {
          "base_uri": "https://localhost:8080/"
        },
        "id": "rC5eBbKnxIyD",
        "outputId": "0822725d-86db-4845-e6da-b3ebb78e93cc"
      },
      "execution_count": 26,
      "outputs": [
        {
          "output_type": "execute_result",
          "data": {
            "text/plain": [
              "0.38910778230082704"
            ]
          },
          "metadata": {},
          "execution_count": 26
        }
      ]
    }
  ]
}